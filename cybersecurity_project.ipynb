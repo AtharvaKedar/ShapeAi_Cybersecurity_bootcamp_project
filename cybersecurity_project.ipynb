{
  "nbformat": 4,
  "nbformat_minor": 0,
  "metadata": {
    "colab": {
      "name": "cybersecurity_project.ipynb",
      "provenance": []
    },
    "kernelspec": {
      "name": "python3",
      "display_name": "Python 3"
    },
    "language_info": {
      "name": "python"
    }
  },
  "cells": [
    {
      "cell_type": "code",
      "metadata": {
        "id": "rPhV_Grmb-WU"
      },
      "source": [
        "import requests\n",
        "from datetime import datetime\n",
        "from tabulate import tabulate\n",
        "\n",
        "api_key = '87d845b0b6cf29baa1a73cc34b067a95'\n",
        "location = input(\"Enter the city name: \")\n",
        "\n",
        "complete_api_link = \"https://api.openweathermap.org/data/2.5/weather?q=\"+location+\"&appid=\"+api_key\n",
        "api_link = requests.get(complete_api_link)\n",
        "api_data = api_link.json()\n",
        "\n",
        "temp_city = ((api_data['main']['temp']) - 273.15)\n",
        "weather_desc = api_data['weather'][0]['description']\n",
        "hmdt = api_data['main']['humidity']\n",
        "wind_spd = api_data['wind']['speed']\n",
        "date_time = datetime.now().strftime(\"%d %b %Y | %I:%M:%S %p\")\n",
        "print('\\n')\n",
        "print (\"Weather Stats for - {}  || {}\".format(location.upper(), date_time))\n",
        "table = [[\"Data\", \"Value\"],[\"Current Temperature\" , \"{:.2f} deg C\".format(temp_city) ],\n",
        "         [\"Current weather desc \", weather_desc] , [\"Current Humidity \", '{} %'.format(hmdt)] , [\"Current Wind Speed \", '{} kmph'.format(wind_spd)]]\n",
        "print(tabulate(table, headers='firstrow', tablefmt='fancy_grid' , showindex=range(1,5)))"
      ],
      "execution_count": null,
      "outputs": []
    }
  ]
}